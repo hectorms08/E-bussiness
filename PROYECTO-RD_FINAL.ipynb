{
 "cells": [
  {
   "cell_type": "code",
   "execution_count": 1,
   "id": "d396f738",
   "metadata": {},
   "outputs": [
    {
     "name": "stdout",
     "output_type": "stream",
     "text": [
      "{'nombre': 'Zapatillas Urbanas Mujer Adidas Breaknet 2.0', 'Precio Normal': 'S/  229  ', 'Precio con descuento': 'No Aplica', 'Disponible': 'SI'}\n",
      "{'nombre': 'Zapatillas Urbanas Hombre adidas Breaknet 2.0', 'Precio Normal': 'S/  229  ', 'Precio con descuento': 'S/  183.20  ', 'Disponible': 'SI'}\n",
      "{'nombre': '-', 'Precio Normal': '-', 'Precio con descuento': '-', 'Disponible': 'NO'}\n",
      "{'nombre': 'North Star Zapatillas Botín Urbanas para Mujer Ruby', 'Precio Normal': 'S/  169.90  ', 'Precio con descuento': 'S/  118.93  ', 'Disponible': 'SI'}\n",
      "{'nombre': '-', 'Precio Normal': '-', 'Precio con descuento': '-', 'Disponible': 'NO'}\n",
      "{'nombre': 'Zapatilla para dama Mitsy', 'Precio Normal': 'S/  195  ', 'Precio con descuento': 'S/  119.90  ', 'Disponible': 'SI'}\n"
     ]
    }
   ],
   "source": [
    "from bs4 import BeautifulSoup as bs\n",
    "import requests as rq\n",
    "import bs4\n",
    "import re\n",
    "\n",
    "def validacion_producto(search_url,product):\n",
    "    response= rq.head(search_url+product)\n",
    "    url=response.headers['location']\n",
    "    match=re.search(r'noResult', url)\n",
    "    return match\n",
    "    \n",
    "def scraping_falabella(productos,search_url):\n",
    "    \n",
    "    for product in productos:\n",
    "        match=validacion_producto(search_url,product)\n",
    "        \n",
    "        html=rq.get(search_url+product).content.decode('utf-8')\n",
    "        soup=bs(html)\n",
    "\n",
    "        nm_producto=soup.find_all('h1',class_=\"jsx-1680787435\")\n",
    "        pr_producto_dsct=soup.find_all('span',class_=\"copy17 primary senary jsx-2835692965 bold line-height-29\")\n",
    "        pr_producto_sindsct=soup.find_all('span',class_=\"copy1 primary medium jsx-2835692965 normal crossed line-height-19\")\n",
    "\n",
    "        if match:\n",
    "\n",
    "            lista[\"nombre\"]=\"-\"\n",
    "            lista[\"Precio Normal\"]=\"-\"\n",
    "            lista[\"Precio con descuento\"]=\"-\"\n",
    "            lista[\"Disponible\"]=\"NO\"\n",
    "        else:\n",
    "            lista[\"nombre\"]=nm_producto[0].text\n",
    "            if len(pr_producto_sindsct)==0:\n",
    "                lista[\"Precio Normal\"]=pr_producto_dsct[0].text\n",
    "                lista[\"Precio con descuento\"]=\"No Aplica\"\n",
    "            else:\n",
    "                lista[\"Precio Normal\"]=pr_producto_sindsct[0].text\n",
    "                lista[\"Precio con descuento\"]=pr_producto_dsct[0].text\n",
    "            lista[\"Disponible\"]=\"SI\"\n",
    "\n",
    "        print(lista)\n",
    "\n",
    "productos=['19836031','19501233','8809699','121231240','133421341','115513343']\n",
    "search_url='https://www.falabella.com.pe/falabella-pe/search?Ntt='\n",
    "lista={}\n",
    "scraping_falabella(productos,search_url)"
   ]
  },
  {
   "cell_type": "code",
   "execution_count": null,
   "id": "8fabf261",
   "metadata": {},
   "outputs": [],
   "source": []
  }
 ],
 "metadata": {
  "kernelspec": {
   "display_name": "Python 3",
   "language": "python",
   "name": "python3"
  },
  "language_info": {
   "codemirror_mode": {
    "name": "ipython",
    "version": 3
   },
   "file_extension": ".py",
   "mimetype": "text/x-python",
   "name": "python",
   "nbconvert_exporter": "python",
   "pygments_lexer": "ipython3",
   "version": "3.11.4"
  }
 },
 "nbformat": 4,
 "nbformat_minor": 5
}
