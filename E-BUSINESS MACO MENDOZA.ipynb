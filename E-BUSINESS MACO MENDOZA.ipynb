{
 "cells": [
  {
   "cell_type": "code",
   "execution_count": null,
   "id": "354cdf67",
   "metadata": {},
   "outputs": [],
   "source": []
  },
  {
   "cell_type": "code",
   "execution_count": null,
   "id": "7688b911",
   "metadata": {},
   "outputs": [],
   "source": []
  },
  {
   "cell_type": "code",
   "execution_count": 9,
   "id": "c267aa7f",
   "metadata": {},
   "outputs": [
    {
     "name": "stdout",
     "output_type": "stream",
     "text": [
      "Ingrese el modelo del producto que desea buscar: Galaxy\n",
      "Se encontraron los siguientes productos:\n",
      "{'name': 'Smartphone Galaxy ZFLIP5 512GB 8GB Lavanda', 'price': 'S/  5,299', 'brand': 'SAMSUNG'}\n",
      "{'name': 'Galaxy Z Fold5 512gb Phantom Black + Clear Gadget + Ta 25w', 'price': 'S/  7,799-13%S/  8,999', 'brand': 'SAMSUNG'}\n",
      "{'name': 'Samsung Galaxy A54 5G 8Gb 256Gb Grafito', 'price': 'S/  1,399-33%S/  1,429S/  2,099', 'brand': 'SAMSUNG'}\n",
      "{'name': 'Galaxy S22 5G 128GB 8GB', 'price': 'S/  1,999-50%S/  3,999', 'brand': 'SAMSUNG'}\n",
      "{'name': 'Galaxy S23 Ultra 256GB 8GB', 'price': 'S/  4,599-18%S/  5,599', 'brand': 'SAMSUNG'}\n",
      "{'name': 'Galaxy A24 Ram 4gb 128gb', 'price': 'S/  719-28%S/  999', 'brand': 'SAMSUNG'}\n",
      "{'name': 'Samsung Galaxy A14 4Gb 128Gb Negro', 'price': 'S/  529-38%S/  549S/  849', 'brand': 'SAMSUNG'}\n"
     ]
    }
   ],
   "source": [
    "import requests\n",
    "from bs4 import BeautifulSoup\n",
    "\n",
    "def buscar_producto_en_pagina(soup, nombre_producto):\n",
    "    productos_encontrados = []\n",
    "\n",
    "    for product in soup.find_all('div', class_='grid-pod'):\n",
    "        name = product.find('b', class_='pod-subTitle').get_text(strip=True) if product.find('b', class_='pod-subTitle') else 'No Name'\n",
    "        price = product.find('ol', class_='pod-prices').get_text(strip=True) if product.find('ol', class_='pod-prices') else 'No Price'\n",
    "        brand = product.find('b', class_='title-rebrand').get_text(strip=True) if product.find('b', class_='title-rebrand') else 'No Brand'\n",
    "\n",
    "        if nombre_producto.lower() in name.lower():\n",
    "            productos_encontrados.append({'name': name, 'price': price, 'brand': brand})\n",
    "\n",
    "    return productos_encontrados\n",
    "\n",
    "def buscar_producto_en_todas_las_paginas(url, nombre_producto):\n",
    "    pagina = 1\n",
    "    productos_en_todas_las_paginas = []\n",
    "\n",
    "    while True:\n",
    "        current_url = f'{url}?page={pagina}'\n",
    "        response = requests.get(current_url)\n",
    "\n",
    "        if response.status_code == 200:\n",
    "            soup = BeautifulSoup(response.content, 'html.parser')\n",
    "            productos_en_pagina = buscar_producto_en_pagina(soup, nombre_producto)\n",
    "\n",
    "            if productos_en_pagina:\n",
    "                productos_en_todas_las_paginas.extend(productos_en_pagina)\n",
    "\n",
    "            # Verificar si hay más páginas\n",
    "            next_button = soup.find('li', class_='pag-next')\n",
    "            if not next_button:\n",
    "                break  # No hay más páginas\n",
    "\n",
    "            pagina += 1\n",
    "        else:\n",
    "            print(f'Error al obtener la página {pagina}. Código de estado: {response.status_code}')\n",
    "            break\n",
    "\n",
    "    return productos_en_todas_las_paginas\n",
    "\n",
    "# Solicitar al usuario ingresar el modelo del producto\n",
    "modelo_producto = input('Ingrese el modelo del producto que desea buscar: ')\n",
    "\n",
    "# URL de la página web que quieres analizar\n",
    "url = 'https://www.falabella.com.pe/falabella-pe/category/cat760702/Telefonia'\n",
    "\n",
    "# Buscar el producto en todas las páginas y mostrar el resultado\n",
    "resultados = buscar_producto_en_todas_las_paginas(url, modelo_producto)\n",
    "\n",
    "if resultados:\n",
    "    print(f'Se encontraron los siguientes productos:')\n",
    "    for producto in resultados:\n",
    "        print(producto)\n",
    "else:\n",
    "    print(f'No se encontró el producto con el modelo \"{modelo_producto}\" en ninguna página.')"
   ]
  }
 ],
 "metadata": {
  "kernelspec": {
   "display_name": "Python 3 (ipykernel)",
   "language": "python",
   "name": "python3"
  },
  "language_info": {
   "codemirror_mode": {
    "name": "ipython",
    "version": 3
   },
   "file_extension": ".py",
   "mimetype": "text/x-python",
   "name": "python",
   "nbconvert_exporter": "python",
   "pygments_lexer": "ipython3",
   "version": "3.11.4"
  }
 },
 "nbformat": 4,
 "nbformat_minor": 5
}
